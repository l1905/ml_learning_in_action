{
 "cells": [
  {
   "cell_type": "markdown",
   "metadata": {},
   "source": [
    "## logistic回归"
   ]
  },
  {
   "cell_type": "markdown",
   "metadata": {},
   "source": [
    "### 前期数学基础"
   ]
  },
  {
   "cell_type": "markdown",
   "metadata": {},
   "source": [
    "线性函数：\n",
    "$\\hat y = \\sigma(W^Tx + b) $\n",
    "\n",
    "sigmoid函数相关: \n",
    "$\\sigma(z) = \\frac{1}{1+e^{-z}} $"
   ]
  },
  {
   "cell_type": "markdown",
   "metadata": {},
   "source": [
    "我们约定:\n",
    "$ \\hat y = P(y=1\\mid x)$\n",
    "\n",
    "如果 y=1 : $ P(y\\mid x) = \\hat y$\n",
    "\n",
    "如果 y=0 : $ P(y\\mid x) = 1 - \\hat y$"
   ]
  },
  {
   "cell_type": "markdown",
   "metadata": {},
   "source": [
    "合并整合上述公式\n",
    "$ P(y\\mid x) = \\hat y^{y} (1-\\hat y)^{1-y} $"
   ]
  },
  {
   "cell_type": "markdown",
   "metadata": {},
   "source": [
    "log 函数严格单调递增， 左右两边取log，  备注 $\\ell 为损失函数$\n",
    "\n",
    "$ logP(y\\mid x) = log\\hat y^{y} (1-\\hat y)^{1-y} = ylog\\hat y + (1-y)log(1- \\hat y) = -\\ell (\\hat y, y)$ \n",
    "\n",
    "原因是： 希望概率越大， 则损失函数越小"
   ]
  },
  {
   "cell_type": "markdown",
   "metadata": {},
   "source": [
    "针对整个训练集: P(lables in training set) = $ \\prod_{i=1}^{m}P(y^{i}\\mid x^{i}) $\n",
    "\n",
    "我们需要将其概率最大化"
   ]
  },
  {
   "cell_type": "markdown",
   "metadata": {},
   "source": [
    "> 概念：最大似然值(maximum likehood estimation) , 即求出一组参数，使得整个公式取得最大值"
   ]
  },
  {
   "cell_type": "markdown",
   "metadata": {},
   "source": [
    "左右取log\n",
    "\n",
    " log(P(lables in training set)) =  $ log(\\prod_{i=1}^{m}P(y^{i}\\mid x^{i})) = \\sum_{i=1}^{m}log(P(y^i \\mid x^i) = -\\sum_{i=1}^{m}\\ell (\\hat y^{i}, y^{i}) $\n",
    " \n"
   ]
  },
  {
   "cell_type": "markdown",
   "metadata": {},
   "source": [
    "成本函数:cost mimminze:\n",
    "\n",
    "$ \\jmath (w, b) = \\frac{1}{m}\\sum_{i=1}^{m} \\ell (\\hat y^{i}, y^{i}) $\n",
    "\n",
    "$\\frac {1}{m}$ 主要是为了对成本函数进行适当的缩放"
   ]
  },
  {
   "cell_type": "markdown",
   "metadata": {},
   "source": [
    "### 损失函数相关"
   ]
  },
  {
   "cell_type": "markdown",
   "metadata": {},
   "source": [
    "$ \\ell (\\hat y, y) = -ylog\\hat{y} - (1-y)log(1-\\hat{y}) $\n",
    "\n",
    "我们的最终目的是使损失函数的值最小化\n",
    "\n",
    "如果y = 1, $ \\ell(\\hat y, y) = -log\\hat{y} $ 因此可知，为了损失最小， $\\hat y$需要尽可能的大\n",
    "\n",
    "如果y = 0, $ \\ell(\\hat y, y) = -log(1-\\hat{y}) $ 因此可知， 为了损失最小， $\\hat y$需要尽可能的大"
   ]
  },
  {
   "cell_type": "markdown",
   "metadata": {},
   "source": [
    "### 成本函数相关"
   ]
  },
  {
   "cell_type": "markdown",
   "metadata": {},
   "source": [
    "$ \\jmath (w, b) = \\frac{1}{m}\\sum_{i=1}^{m} \\ell (\\hat y^{i}, y^{i}) = -\\frac{1}{m}\\sum_{i=1}^{m}(y^{i}log(\\hat y^{i}) + (1-y^{i})log(1-\\hat y^{i})) $"
   ]
  },
  {
   "cell_type": "markdown",
   "metadata": {},
   "source": [
    "### 计算偏导 梯度"
   ]
  },
  {
   "cell_type": "markdown",
   "metadata": {},
   "source": [
    "我们已经知道有以下公式成立\n",
    "\n",
    "$$ z = w^{T} + b$$\n",
    "$$ \\hat y = a = \\sigma(z) $$\n",
    "$$ \\ell (a, y) = -yloga - (1-y)log(1-a) $$"
   ]
  },
  {
   "cell_type": "markdown",
   "metadata": {},
   "source": [
    "并且我们已知有以下推导链"
   ]
  },
  {
   "cell_type": "markdown",
   "metadata": {},
   "source": [
    "$ z = w_{1}x + w_{2}x + ...+b \\Longrightarrow \\hat{y} = a = \\sigma(z) \\Longrightarrow \\ell (a, y)  $"
   ]
  },
  {
   "cell_type": "markdown",
   "metadata": {},
   "source": [
    "我们首先对a求导\n",
    "\n",
    "$ da = \\frac{d{\\ell}}{da} = d(a,y) = d(-yloga - (1-y)log(1-a)) = -\\frac{y}{a} + \\frac{1-y}{1-a} $"
   ]
  },
  {
   "cell_type": "markdown",
   "metadata": {},
   "source": [
    "下面我们对Z求导\n",
    "\n",
    "$ dz = \\frac{d{\\ell}}{dz} = \\frac{d{\\ell}}{da} \\cdot \\frac{da}{dz} = da \\cdot \\frac{da}{dz} $\n"
   ]
  },
  {
   "cell_type": "markdown",
   "metadata": {},
   "source": [
    "da我们刚才已经求出， 因此现在我们只需要求导 $\\frac{da}{dz}$"
   ]
  },
  {
   "cell_type": "markdown",
   "metadata": {},
   "source": [
    "$\n",
    "\\begin{align}\n",
    "\\frac{da}{dz} &= (\\frac{1}{1+e^{-z}})^{'} \\tag{1}\\\\\n",
    "&= \\frac{-(1+e^{-z})^{'}}{(1+e^{-z})^{2}} \\tag{2}\\\\\n",
    "&= \\frac{e^{-z}}{(1+e^{-z})^{2}} \\tag{3}\\\\\n",
    "&= \\frac{e^{-z}+1-1}{(1+e^{-z})^{2}} \\tag{4}\\\\\n",
    "&= \\frac{1}{(1+e^{-z})} \\cdot (1 - \\frac{1}{(1+e^{-z})}) \\tag{5}\\\\\n",
    "&= a \\cdot (1-a) \\tag{6}\\\\\n",
    "\\end{align}\n",
    "$"
   ]
  },
  {
   "cell_type": "markdown",
   "metadata": {},
   "source": [
    "因此我们可以求出\n",
    "\n",
    "$\n",
    "\\begin{align}\n",
    "dz &= da \\cdot \\frac{da}{dz} \\tag{1}\\\\\n",
    "dz &= (-\\frac{y}{a} + \\frac{1-y}{1-a}) \\cdot a \\cdot (1-a) \\tag{2}\\\\\n",
    "dz &= a - y \\tag{3}\\\\\n",
    "\\end{align}\n",
    "$"
   ]
  },
  {
   "cell_type": "markdown",
   "metadata": {},
   "source": [
    "最终我们求出 dw偏导\n",
    "\n",
    "$\n",
    "\\begin{align}\n",
    "dw &= \\frac{dz}{dw} \\cdot dz \\tag{1}\\\\\n",
    "dw &= x \\cdot (a-y)\n",
    "\\end{align}\n",
    "$"
   ]
  },
  {
   "cell_type": "markdown",
   "metadata": {},
   "source": [
    "- 数学求导相关公式 http://math2.org/math/derivatives/identities.htm#quotient"
   ]
  },
  {
   "cell_type": "markdown",
   "metadata": {},
   "source": [
    "### Logistic 回归梯度上升优化算法"
   ]
  },
  {
   "cell_type": "code",
   "execution_count": 5,
   "metadata": {},
   "outputs": [],
   "source": [
    "from numpy import *\n",
    "#加载数据和标签\n",
    "def loadDataSet():\n",
    "    dataMat = []\n",
    "    labelMat = []\n",
    "    fr = open('testSet.txt')\n",
    "    for line in fr.readlines():\n",
    "        lineArr = line.strip().split()\n",
    "        dataMat.append([1.0, float(lineArr[0]), float(lineArr[1])])\n",
    "        labelMat.append(int(lineArr[2]))\n",
    "    return dataMat, labelMat\n",
    "\n",
    "def sigmoid(intX):\n",
    "    return 1.0/(1+exp(-intX))\n",
    "\n",
    "def gradAscent(dataMatIn, classLables):\n",
    "    dataMatrix = mat(dataMatIn)\n",
    "    labelMat = mat(classLables).transpose()\n",
    "    m,n = shape(dataMatrix)\n",
    "    #print(n)\n",
    "    #初始化相关参数\n",
    "    alpha = 0.001\n",
    "    maxCycles = 500\n",
    "    weights = ones([n, 1])\n",
    "    for k in range(maxCycles):\n",
    "        #a = dataMatrix * weights\n",
    "#         print(dataMatrix.shape)\n",
    "#         print(weights.shape)\n",
    "        #print(a.shape)\n",
    "        #dataMatrix 100*3, weights 3*1, h 100*1, error 100*1, weights 3*1\n",
    "        \n",
    "        h = sigmoid(dataMatrix * weights)\n",
    "        error = (labelMat - h)\n",
    "        weights = weights + alpha * dataMatrix.transpose()*error # 用之前推导的公式加深理解\n",
    "    return weights\n"
   ]
  },
  {
   "cell_type": "code",
   "execution_count": 6,
   "metadata": {},
   "outputs": [],
   "source": [
    "#获取数据集合\n",
    "dataArr, labelMat = loadDataSet()"
   ]
  },
  {
   "cell_type": "code",
   "execution_count": 7,
   "metadata": {},
   "outputs": [
    {
     "data": {
      "text/plain": [
       "matrix([[ 4.12414349],\n",
       "        [ 0.48007329],\n",
       "        [-0.6168482 ]])"
      ]
     },
     "execution_count": 7,
     "metadata": {},
     "output_type": "execute_result"
    }
   ],
   "source": [
    "#dataArr\n",
    "#labelMat\n",
    "gradAscent(dataArr, labelMat)"
   ]
  },
  {
   "cell_type": "markdown",
   "metadata": {},
   "source": [
    "### 分析数据：画出决策边界"
   ]
  },
  {
   "cell_type": "code",
   "execution_count": 8,
   "metadata": {},
   "outputs": [],
   "source": [
    "# def plotBestFit(weights):\n",
    "#     import matplotlib.pyplot as plt\n",
    "#     dataMat, labelMat = loadDataSet()\n",
    "#     dataArr = array(dataMat)\n",
    "#     n = shape(dataArr)[0]\n",
    "#     xcord1 = []\n",
    "#     ycord1 = []\n",
    "#     xcord2 = []\n",
    "#     ycord2 = []\n",
    "#     for i in range(n):\n",
    "#         if int(labelMat[i]) == 1:\n",
    "#             xcord1.append(dataArr[i, 1])\n",
    "#             ycord1.append(dataArr[i, 2])\n",
    "#         else:\n",
    "#             xcord2.append(dataArr[i, 1])\n",
    "#             ycord2.append(dataArr[i, 2])\n",
    "#     fig = plt.figure()\n",
    "#     ax = fig.add_subplot(111)\n",
    "#     ax.scatter(xcord1, ycord1, s=30, c='red', marker='s')\n",
    "#     ax.scatter(xcord2, ycord2, s=30, c='green')\n",
    "#     x = arange(-3.0, 3.0, 0.1)\n",
    "#     #x = reshape(x, [x.shape[0], 1])\n",
    "#     #print(x.shape)\n",
    "#     y = (-weights[0] - weights[1]*x)/weights[2]\n",
    "# #     x = reshape(x, [1, reshape(x, [x.shape[0], 1])])\n",
    "#     print(x.shape)\n",
    "#     print(y.shape)\n",
    "#     ax.plot(x, y)\n",
    "#     plt.xlabel('X1')\n",
    "#     plt.ylabel('X2')\n",
    "#     plt.show()\n",
    "import numpy as np\n",
    "def plotBestFit(weights):\n",
    "    import matplotlib.pyplot as plt\n",
    "    dataMat, labelMat = loadDataSet()\n",
    "    dataArr = np.array(dataMat)\n",
    "    n = np.shape(dataArr)[0]\n",
    "    xcord1 = []; ycord1 = []\n",
    "    xcord2 = []; ycord2 = []\n",
    "    for i in range(n):\n",
    "        if int(labelMat[i]) == 1:\n",
    "            xcord1.append(dataArr[i, 1]); ycord1.append(dataArr[i, 2])\n",
    "        else:\n",
    "            xcord2.append(dataArr[i, 1]); ycord2.append(dataArr[i, 2])\n",
    "    fig = plt.figure()\n",
    "    ax = fig.add_subplot(111)\n",
    "    ax.scatter(xcord1, ycord1, s=30, c='red', marker='s')\n",
    "    ax.scatter(xcord2, ycord2, s=30, c='green')\n",
    "    x = np.arange(-3.0, 3.0, 0.1)\n",
    "    y = (-weights[0]-weights[1]*x)/weights[2] #这里的y 其实就是x2, 这块不好理解\n",
    "    x = np.reshape(x, [60, 1])\n",
    "    y = np.reshape(y, [60, 1])\n",
    "    #print(x.shape)\n",
    "    #print(y.shape)\n",
    "    ax.plot(x, y)\n",
    "    plt.xlabel('X1'); plt.ylabel('X2')\n",
    "    plt.show()"
   ]
  },
  {
   "cell_type": "code",
   "execution_count": 9,
   "metadata": {},
   "outputs": [],
   "source": [
    "weights = gradAscent(dataArr, labelMat)"
   ]
  },
  {
   "cell_type": "code",
   "execution_count": 11,
   "metadata": {},
   "outputs": [
    {
     "data": {
      "image/png": "[encoded data removed]",
      "text/plain": [
       "<matplotlib.figure.Figure at 0x10fd493c8>"
      ]
     },
     "metadata": {},
     "output_type": "display_data"
    }
   ],
   "source": [
    "plotBestFit(weights)"
   ]
  },
  {
   "cell_type": "markdown",
   "metadata": {},
   "source": [
    "### 随机梯度上升算法"
   ]
  },
  {
   "cell_type": "code",
   "execution_count": 12,
   "metadata": {},
   "outputs": [],
   "source": [
    "def stocGradAscent0(dataMatrix, classLables):\n",
    "    m,n = shape(dataMatrix)\n",
    "    alpha = 0.01\n",
    "    weights = ones(n)\n",
    "    for i in range(m):\n",
    "        h = sigmoid(sum(dataMatrix[i]) * weights)\n",
    "        error = classLables[i] - h\n",
    "        weights = weights + alpha * error * dataMatrix[i]\n",
    "    return weights\n"
   ]
  },
  {
   "cell_type": "code",
   "execution_count": 13,
   "metadata": {},
   "outputs": [
    {
     "data": {
      "image/png": "[encoded data removed]",
      "text/plain": [
       "<matplotlib.figure.Figure at 0x11174b588>"
      ]
     },
     "metadata": {},
     "output_type": "display_data"
    }
   ],
   "source": [
    "from numpy import *\n",
    "dataArr, labelMat = loadDataSet()\n",
    "weights = stocGradAscent0(array(dataArr), labelMat)\n",
    "plotBestFit(weights)"
   ]
  },
  {
   "cell_type": "markdown",
   "metadata": {},
   "source": [
    "### 改进的随即梯度上升算法"
   ]
  },
  {
   "cell_type": "code",
   "execution_count": 14,
   "metadata": {},
   "outputs": [],
   "source": [
    "def stocGradScent1(dataMatrix, classLabels, numIter=150):\n",
    "    m, n = shape(dataMatrix)\n",
    "    weights = ones(n)\n",
    "    for j in range(numIter):\n",
    "        dataIndex = list(range(m))\n",
    "        for i in range(m):\n",
    "            alpha = 4/(1.0+j+i)+0.01\n",
    "            randIndex = int(random.uniform(0, len(dataIndex)))\n",
    "            h = sigmoid(sum(dataMatrix[randIndex]*weights))\n",
    "            error = classLabels[randIndex] - h\n",
    "            weights = weights + alpha * error * dataMatrix[randIndex]\n",
    "            del(dataIndex[randIndex])\n",
    "    return weights"
   ]
  },
  {
   "cell_type": "code",
   "execution_count": 15,
   "metadata": {},
   "outputs": [
    {
     "data": {
      "image/png": "[encoded data removed]",
      "text/plain": [
       "<matplotlib.figure.Figure at 0x1117d8b00>"
      ]
     },
     "metadata": {},
     "output_type": "display_data"
    }
   ],
   "source": [
    "dataArr, labelMat = loadDataSet()\n",
    "weights = stocGradScent1(array(dataArr), labelMat)\n",
    "plotBestFit(weights)"
   ]
  },
  {
   "cell_type": "markdown",
   "metadata": {},
   "source": [
    "### 从疝气病症预测病马的死亡率"
   ]
  },
  {
   "cell_type": "markdown",
   "metadata": {},
   "source": [
    "** 测试算法，用Logistic回归进行分类 **"
   ]
  },
  {
   "cell_type": "code",
   "execution_count": 16,
   "metadata": {},
   "outputs": [],
   "source": [
    "#预测 分类\n",
    "def classifyVector(inX, weights):\n",
    "    prob = sigmoid(sum(inX*weights))\n",
    "    if prob > 0.5:\n",
    "        return 1.0\n",
    "    else:\n",
    "        return 0.0\n",
    "\n",
    "def colicTest():\n",
    "    frTrain = open('horseColicTraining.txt')\n",
    "    frTest = open('horseColicTest.txt')\n",
    "    trainingSet = []\n",
    "    trainingLabels = []\n",
    "    for line in frTrain.readlines():\n",
    "        currLine = line.strip().split('\\t')\n",
    "        lineArr = []\n",
    "        for i in range(21):\n",
    "            lineArr.append(float(currLine[i]))\n",
    "        trainingSet.append(lineArr)\n",
    "        trainingLabels.append(float(currLine[21]))\n",
    "    trainWeights = stocGradAscent1(array(trainingSet), trainingLabels, 500)\n",
    "    errorCount = 0\n",
    "    numTestVec = 0.0\n",
    "    for line in frTest.readlines():\n",
    "        numTestVec += 1.0\n",
    "        currLine = line.strip().split('\\t')\n",
    "        lineArr = []\n",
    "        for i in range(21):\n",
    "            lineArr.append(float(currLine[i]))\n",
    "        if int(classifyVector(array(lineArr), trainWeights)) != int(currLine[21]):\n",
    "            errorCount += 1\n",
    "    errorRate = (float(errorCount)/numTestVec)\n",
    "    print(\"the error rate of this test is:%f\" % errorRate)\n",
    "    return errorRate\n",
    "\n",
    "def multiTest():\n",
    "    numTests = 10;\n",
    "    errorSum = 0.0;\n",
    "    for k in range(numTests):\n",
    "        errorSum += colicTest()\n",
    "    print(\"after %d iterations the average error rate is: %f\" %(numTests, errorSum/float(numTests)))"
   ]
  },
  {
   "cell_type": "code",
   "execution_count": 17,
   "metadata": {},
   "outputs": [
    {
     "ename": "NameError",
     "evalue": "name 'stocGradAscent1' is not defined",
     "output_type": "error",
     "traceback": [
      "\u001b[0;31m---------------------------------------------------------------------------\u001b[0m",
      "\u001b[0;31mNameError\u001b[0m                                 Traceback (most recent call last)",
      "\u001b[0;32m<ipython-input-17-85d6f2e19b45>\u001b[0m in \u001b[0;36m<module>\u001b[0;34m()\u001b[0m\n\u001b[1;32m      1\u001b[0m \u001b[0;31m#查看运算结果\u001b[0m\u001b[0;34m\u001b[0m\u001b[0;34m\u001b[0m\u001b[0m\n\u001b[0;32m----> 2\u001b[0;31m \u001b[0mmultiTest\u001b[0m\u001b[0;34m(\u001b[0m\u001b[0;34m)\u001b[0m\u001b[0;34m\u001b[0m\u001b[0m\n\u001b[0m",
      "\u001b[0;32m<ipython-input-16-b97f6a6099bc>\u001b[0m in \u001b[0;36mmultiTest\u001b[0;34m()\u001b[0m\n\u001b[1;32m     38\u001b[0m     \u001b[0merrorSum\u001b[0m \u001b[0;34m=\u001b[0m \u001b[0;36m0.0\u001b[0m\u001b[0;34m;\u001b[0m\u001b[0;34m\u001b[0m\u001b[0m\n\u001b[1;32m     39\u001b[0m     \u001b[0;32mfor\u001b[0m \u001b[0mk\u001b[0m \u001b[0;32min\u001b[0m \u001b[0mrange\u001b[0m\u001b[0;34m(\u001b[0m\u001b[0mnumTests\u001b[0m\u001b[0;34m)\u001b[0m\u001b[0;34m:\u001b[0m\u001b[0;34m\u001b[0m\u001b[0m\n\u001b[0;32m---> 40\u001b[0;31m         \u001b[0merrorSum\u001b[0m \u001b[0;34m+=\u001b[0m \u001b[0mcolicTest\u001b[0m\u001b[0;34m(\u001b[0m\u001b[0;34m)\u001b[0m\u001b[0;34m\u001b[0m\u001b[0m\n\u001b[0m\u001b[1;32m     41\u001b[0m     \u001b[0mprint\u001b[0m\u001b[0;34m(\u001b[0m\u001b[0;34m\"after %d iterations the average error rate is: %f\"\u001b[0m \u001b[0;34m%\u001b[0m\u001b[0;34m(\u001b[0m\u001b[0mnumTests\u001b[0m\u001b[0;34m,\u001b[0m \u001b[0merrorSum\u001b[0m\u001b[0;34m/\u001b[0m\u001b[0mfloat\u001b[0m\u001b[0;34m(\u001b[0m\u001b[0mnumTests\u001b[0m\u001b[0;34m)\u001b[0m\u001b[0;34m)\u001b[0m\u001b[0;34m)\u001b[0m\u001b[0;34m\u001b[0m\u001b[0m\n",
      "\u001b[0;32m<ipython-input-16-b97f6a6099bc>\u001b[0m in \u001b[0;36mcolicTest\u001b[0;34m()\u001b[0m\n\u001b[1;32m     19\u001b[0m         \u001b[0mtrainingSet\u001b[0m\u001b[0;34m.\u001b[0m\u001b[0mappend\u001b[0m\u001b[0;34m(\u001b[0m\u001b[0mlineArr\u001b[0m\u001b[0;34m)\u001b[0m\u001b[0;34m\u001b[0m\u001b[0m\n\u001b[1;32m     20\u001b[0m         \u001b[0mtrainingLabels\u001b[0m\u001b[0;34m.\u001b[0m\u001b[0mappend\u001b[0m\u001b[0;34m(\u001b[0m\u001b[0mfloat\u001b[0m\u001b[0;34m(\u001b[0m\u001b[0mcurrLine\u001b[0m\u001b[0;34m[\u001b[0m\u001b[0;36m21\u001b[0m\u001b[0;34m]\u001b[0m\u001b[0;34m)\u001b[0m\u001b[0;34m)\u001b[0m\u001b[0;34m\u001b[0m\u001b[0m\n\u001b[0;32m---> 21\u001b[0;31m     \u001b[0mtrainWeights\u001b[0m \u001b[0;34m=\u001b[0m \u001b[0mstocGradAscent1\u001b[0m\u001b[0;34m(\u001b[0m\u001b[0marray\u001b[0m\u001b[0;34m(\u001b[0m\u001b[0mtrainingSet\u001b[0m\u001b[0;34m)\u001b[0m\u001b[0;34m,\u001b[0m \u001b[0mtrainingLabels\u001b[0m\u001b[0;34m,\u001b[0m \u001b[0;36m500\u001b[0m\u001b[0;34m)\u001b[0m\u001b[0;34m\u001b[0m\u001b[0m\n\u001b[0m\u001b[1;32m     22\u001b[0m     \u001b[0merrorCount\u001b[0m \u001b[0;34m=\u001b[0m \u001b[0;36m0\u001b[0m\u001b[0;34m\u001b[0m\u001b[0m\n\u001b[1;32m     23\u001b[0m     \u001b[0mnumTestVec\u001b[0m \u001b[0;34m=\u001b[0m \u001b[0;36m0.0\u001b[0m\u001b[0;34m\u001b[0m\u001b[0m\n",
      "\u001b[0;31mNameError\u001b[0m: name 'stocGradAscent1' is not defined"
     ]
    }
   ],
   "source": [
    "#查看运算结果\n",
    "multiTest()"
   ]
  },
  {
   "cell_type": "code",
   "execution_count": null,
   "metadata": {},
   "outputs": [],
   "source": []
  }
 ],
 "metadata": {
  "kernelspec": {
   "display_name": "Python 3",
   "language": "python",
   "name": "python3"
  },
  "language_info": {
   "codemirror_mode": {
    "name": "ipython",
    "version": 3
   },
   "file_extension": ".py",
   "mimetype": "text/x-python",
   "name": "python",
   "nbconvert_exporter": "python",
   "pygments_lexer": "ipython3",
   "version": "3.6.4"
  }
 },
 "nbformat": 4,
 "nbformat_minor": 2
}
